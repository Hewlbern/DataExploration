{
 "cells": [
  {
   "cell_type": "markdown",
   "metadata": {},
   "source": [
    "### Road Traffic and Computer Vision."
   ]
  },
  {
   "cell_type": "markdown",
   "metadata": {},
   "source": [
    "Keeping in mind this pipeline is not efficient and is not necessarily the best way to do this. It's just to demonstrate how the technology works and why it is an easy to implement and inexpensive to maintain technology."
   ]
  },
  {
   "cell_type": "markdown",
   "metadata": {},
   "source": [
    "The over-arching goal is to use a R-CNN to extract the license plates specifically from vehicles. \n",
    "#### This can be used to give:\n",
    "1. vehicle type;\n",
    "2. if the vehicle is stolen;\n",
    "3. Origin destination of the vehicle (if there were a network of cameras throughout the city);\n",
    "4. Your usual counts and speed etc. There's some research that explores this that I'm looking into replicating."
   ]
  },
  {
   "cell_type": "markdown",
   "metadata": {},
   "source": [
    "#### Key understanding is.\n",
    "\n",
    "- Video detection:\n",
    "    -  Images(Frames) are matrices with 3 dimensions made up of RGB(and Alpha) and with numbers between 0-255 for each pixel location. \n",
    "    - Filtering these matrices to extract valuable information(features) lets us do traffic counts. \n",
    "    - Variety of methods available and lots of tutorials online to achieve this goal. \n",
    "\n",
    "- Some of the filters here are: Threshold, Erode, Dilate, Opening, Closing. \n",
    "    - Threshold - If pixel value is greater than a threshold value, it is assigned one value (may be white), else it is assigned another value (may be black). \n",
    "    - Erode -  erodes away the boundaries of foreground object.\n",
    "    - Dilate - Opposite of erosion. Here, a pixel element is '1' if atleast one pixel under the kernel is '1'. So it increases the white region in the image or size of foreground object increases.\n",
    "    - Opening - Another name of erosion followed by dilation.\n",
    "    - Closing - The reverse of Opening, Dilation followed by Erosion. \n",
    "\n",
    "- After this you find contours .\n",
    "    - Contours can be explained simply as a curve joining all the continuous points (along the boundary), having same color or intensity. The contours are a useful tool for shape analysis and object detection and recognition."
   ]
  },
  {
   "cell_type": "markdown",
   "metadata": {},
   "source": [
    "## Example of filtering"
   ]
  },
  {
   "cell_type": "code",
   "execution_count": 4,
   "metadata": {},
   "outputs": [],
   "source": [
    "import cv2\n",
    "import numpy as np\n",
    "import os"
   ]
  },
  {
   "cell_type": "code",
   "execution_count": 7,
   "metadata": {},
   "outputs": [],
   "source": [
    "video = \"input.mp4\""
   ]
  },
  {
   "cell_type": "code",
   "execution_count": 8,
   "metadata": {},
   "outputs": [],
   "source": [
    "cap = cv2.VideoCapture(video)\n",
    "subtractor = cv2.createBackgroundSubtractorMOG2(history=100, varThreshold=50, detectShadows=True)"
   ]
  },
  {
   "cell_type": "code",
   "execution_count": 9,
   "metadata": {},
   "outputs": [],
   "source": [
    "while True:\n",
    "    _, frame = cap.read()\n",
    "    mask = subtractor.apply(frame) \n",
    "    cv2.imshow(\"Frame\", frame)\n",
    "    cv2.imshow(\"mask\", mask)\n",
    "    key = cv2.waitKey(30)\n",
    "    if key == 27:\n",
    "        break\n",
    "cap.release()\n",
    "cv2.destroyAllWindows()"
   ]
  },
  {
   "cell_type": "markdown",
   "metadata": {},
   "source": [
    "As you can see (if you've imported a video of some description) the above has removed the background from the moving objects, i.e., vehicles. Every other transformation just adds to this process."
   ]
  }
 ],
 "metadata": {
  "kernelspec": {
   "display_name": "Python 3",
   "language": "python",
   "name": "python3"
  },
  "language_info": {
   "codemirror_mode": {
    "name": "ipython",
    "version": 3
   },
   "file_extension": ".py",
   "mimetype": "text/x-python",
   "name": "python",
   "nbconvert_exporter": "python",
   "pygments_lexer": "ipython3",
   "version": "3.6.4"
  }
 },
 "nbformat": 4,
 "nbformat_minor": 2
}
